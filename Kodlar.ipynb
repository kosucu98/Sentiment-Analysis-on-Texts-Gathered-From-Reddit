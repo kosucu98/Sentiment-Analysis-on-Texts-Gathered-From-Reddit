{
 "cells": [
  {
   "cell_type": "code",
   "execution_count": 3,
   "id": "eb6bca32",
   "metadata": {},
   "outputs": [
    {
     "name": "stdout",
     "output_type": "stream",
     "text": [
      "Random Forest Accuracy: 0.7566433566433567\n",
      "Random Forest Classification Report:\n",
      "               precision    recall  f1-score   support\n",
      "\n",
      "           0       0.80      0.66      0.72       346\n",
      "           1       0.73      0.85      0.78       369\n",
      "\n",
      "    accuracy                           0.76       715\n",
      "   macro avg       0.76      0.75      0.75       715\n",
      "weighted avg       0.76      0.76      0.75       715\n",
      "\n",
      "Support Vector Machine Accuracy: 0.7510489510489511\n",
      "Support Vector Machine Classification Report:\n",
      "               precision    recall  f1-score   support\n",
      "\n",
      "           0       0.76      0.71      0.73       346\n",
      "           1       0.74      0.79      0.77       369\n",
      "\n",
      "    accuracy                           0.75       715\n",
      "   macro avg       0.75      0.75      0.75       715\n",
      "weighted avg       0.75      0.75      0.75       715\n",
      "\n"
     ]
    }
   ],
   "source": [
    "import pandas as pd\n",
    "from sklearn.model_selection import train_test_split\n",
    "from sklearn.ensemble import RandomForestClassifier\n",
    "from sklearn.feature_extraction.text import TfidfVectorizer\n",
    "from sklearn.impute import SimpleImputer\n",
    "from sklearn.metrics import accuracy_score, classification_report\n",
    "from sklearn.svm import SVC\n",
    "import numpy as np\n",
    "\n",
    "def preprocess_data(X, vectorizer=None, imputer=None, is_train=True):\n",
    "    X_text = X['text']\n",
    "    X_non_text = X.drop(columns='text')\n",
    "\n",
    "    if is_train:\n",
    "        vectorizer = TfidfVectorizer()\n",
    "        X_text = vectorizer.fit_transform(X_text).toarray()\n",
    "    else:\n",
    "        X_text = vectorizer.transform(X_text).toarray()\n",
    "\n",
    "    if is_train:\n",
    "        imputer = SimpleImputer(strategy='mean')\n",
    "        X_non_text = imputer.fit_transform(X_non_text)\n",
    "    else:\n",
    "        X_non_text = imputer.transform(X_non_text)\n",
    "\n",
    "    X_combined = np.hstack((X_text, X_non_text))\n",
    "    return X_combined, vectorizer, imputer\n",
    "\n",
    "def load_data(file_path):\n",
    "    data = pd.read_csv(file_path)\n",
    "    features = ['text', 'lex_liwc_negemo', 'lex_liwc_Tone', 'lex_liwc_i', 'lex_liwc_Clout', 'sentiment', \n",
    "                'lex_liwc_posemo', 'lex_liwc_social', 'lex_liwc_Authentic', 'lex_liwc_function', 'lex_liwc_Dic']\n",
    "    X = data[features]\n",
    "    y = data['label']\n",
    "    return X, y\n",
    "\n",
    "def train_and_evaluate_model(X_train, y_train, X_test, y_test, model, model_name):\n",
    "    model.fit(X_train, y_train)\n",
    "    y_pred = model.predict(X_test)\n",
    "    print(f\"{model_name} Accuracy:\", accuracy_score(y_test, y_pred))\n",
    "    print(f\"{model_name} Classification Report:\\n\", classification_report(y_test, y_pred))\n",
    "\n",
    "def main(train_file_path, test_file_path):\n",
    "    X_train, y_train = load_data(train_file_path)\n",
    "    X_test, y_test = load_data(test_file_path)\n",
    "    X_train, vectorizer, imputer = preprocess_data(X_train, is_train=True)\n",
    "    X_test, _, _ = preprocess_data(X_test, vectorizer=vectorizer, imputer=imputer, is_train=False)\n",
    "\n",
    "    models = {\n",
    "        \"Random Forest\": RandomForestClassifier(n_estimators=100, random_state=42),\n",
    "        \"Support Vector Machine\": SVC(kernel='linear', random_state=42)\n",
    "    }\n",
    "    for name, model in models.items():\n",
    "        train_and_evaluate_model(X_train, y_train, X_test, y_test, model, name)\n",
    "\n",
    "train_file_path = 'C:/Users/oguzh/Downloads/archive-8/dreaddit-train.csv'\n",
    "test_file_path = 'C:/Users/oguzh/Downloads/archive-8/dreaddit-test.csv'\n",
    "main(train_file_path, test_file_path)\n"
   ]
  },
  {
   "cell_type": "code",
   "execution_count": null,
   "id": "579b5635",
   "metadata": {},
   "outputs": [],
   "source": []
  }
 ],
 "metadata": {
  "kernelspec": {
   "display_name": "Python 3",
   "language": "python",
   "name": "python3"
  },
  "language_info": {
   "codemirror_mode": {
    "name": "ipython",
    "version": 3
   },
   "file_extension": ".py",
   "mimetype": "text/x-python",
   "name": "python",
   "nbconvert_exporter": "python",
   "pygments_lexer": "ipython3",
   "version": "3.8.8"
  }
 },
 "nbformat": 4,
 "nbformat_minor": 5
}
